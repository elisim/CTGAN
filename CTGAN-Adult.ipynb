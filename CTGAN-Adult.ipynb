{
 "cells": [
  {
   "cell_type": "code",
   "execution_count": 23,
   "metadata": {},
   "outputs": [],
   "source": [
    "import warnings\n",
    "from collections import Counter\n",
    "warnings.filterwarnings(\"ignore\")\n",
    "\n",
    "import pickle\n",
    "import os\n",
    "import pandas as pd\n",
    "import numpy as np\n",
    "import matplotlib.pyplot as plt\n",
    "\n",
    "# https://sdv.dev/SDV/user_guides/single_table/ctgan.html\n",
    "from ctgan import CTGANSynthesizer\n",
    "from sklearn.base import BaseEstimator, TransformerMixin\n",
    "from sklearn.preprocessing import StandardScaler\n",
    "\n",
    "\n",
    "MODELS_PATH = './models'\n",
    "DATA_PATH = './data/'\n",
    "dataset = 'adult'\n",
    "seed = 1\n",
    "np.random.seed(seed)"
   ]
  },
  {
   "cell_type": "code",
   "execution_count": 3,
   "metadata": {},
   "outputs": [],
   "source": [
    "# load adult\n",
    "# https://towardsdatascience.com/logistic-regression-classifier-on-census-income-data-e1dbef0b5738\n",
    "def load_adult():\n",
    "    columns = [\"age\",\n",
    "               \"workClass\", \n",
    "               \"fnlwgt\", \n",
    "               \"education\", \n",
    "               \"education-num\",\n",
    "               \"marital-status\", \n",
    "               \"occupation\", \n",
    "               \"relationship\",\n",
    "               \"race\", \n",
    "               \"sex\", \n",
    "               \"capital-gain\", \n",
    "               \"capital-loss\",\n",
    "               \"hours-per-week\", \n",
    "               \"native-country\", \n",
    "               \"income\"]\n",
    "    \n",
    "    train = pd.read_csv(os.path.join(DATA_PATH, 'adult/data'), names=columns, sep=' *, *', na_values='?', engine='python')\n",
    "    test = pd.read_csv(os.path.join(DATA_PATH, 'adult/test'), names=columns, sep=' *, *', skiprows=1, na_values='?', engine='python')\n",
    "\n",
    "#     test['income'].replace(regex=True, inplace=True, to_replace=r'\\.', value=r'')\n",
    "#     adult = pd.concat([test,train])\n",
    "#     adult.reset_index(inplace=True, drop=True)\n",
    "#     return adult,\n",
    "    return train, test, columns"
   ]
  },
  {
   "cell_type": "code",
   "execution_count": 4,
   "metadata": {},
   "outputs": [],
   "source": [
    "train_data, test_data, discrete_columns = load_adult()    "
   ]
  },
  {
   "cell_type": "code",
   "execution_count": 5,
   "metadata": {},
   "outputs": [
    {
     "data": {
      "text/plain": [
       "(32561, 15)"
      ]
     },
     "execution_count": 5,
     "metadata": {},
     "output_type": "execute_result"
    }
   ],
   "source": [
    "train_data.shape"
   ]
  },
  {
   "cell_type": "markdown",
   "metadata": {},
   "source": [
    "# Train CTGAN with confidence level and black-box model"
   ]
  },
  {
   "cell_type": "markdown",
   "metadata": {},
   "source": [
    "### CTGAN code structure:\n",
    "1. **transformer.py** - implements _Mode-specific Normalization_ to continuous values, while categorical are encoded with OHE.\n",
    "\n",
    "2. **synthesizer.py** - main code, implements fit (training GAN), predict (sample data), save and load. \n",
    "\n",
    "3. **models.py** - file contains Discriminator, Generator and Residual models.\n",
    "\n",
    "4. **sampler.py** - TODO\n",
    "\n",
    "5. **conditional.py** - TODO"
   ]
  },
  {
   "cell_type": "code",
   "execution_count": 6,
   "metadata": {},
   "outputs": [],
   "source": [
    "# load rf model\n",
    "with open(os.path.join(MODELS_PATH, 'adult_rf_0.852.pkl'), 'rb') as rf_fd:\n",
    "    rf_model = pickle.load(rf_fd)\n",
    "    \n",
    "# load rf pipeline\n",
    "with open(os.path.join(MODELS_PATH, 'adult_rf_0.852_pipeline.pkl'), 'rb') as pl_fd:\n",
    "    rf_pipeline = pickle.load(pl_fd)"
   ]
  },
  {
   "cell_type": "code",
   "execution_count": 7,
   "metadata": {},
   "outputs": [],
   "source": [
    "def gen_random_noise(shape):\n",
    "    mu = 0\n",
    "    sigma = 1\n",
    "    z = sigma * np.random.randn(*shape) + mu\n",
    "    return pd.DataFrame(z)\n",
    "\n",
    "def plot_losses(hist, title):\n",
    "    plt.figure(figsize=(10,5))\n",
    "    plt.grid()\n",
    "    plt.title(title, fontsize=25)\n",
    "    plt.plot(hist[\"loss_g\"], '-o', label=\"loss_g\", linewidth=2.0)\n",
    "    plt.plot(hist[\"loss_bb\"], '-o', label=\"loss_bb\", linewidth=2.0)\n",
    "    plt.xticks(fontsize=15)\n",
    "    plt.yticks(fontsize=15)\n",
    "    plt.xlabel(\"Number of epochs\", fontsize=20)\n",
    "    plt.ylabel('Loss', fontsize=20)\n",
    "    plt.legend(loc='upper right', fontsize=10)\n",
    "    plt.show()"
   ]
  },
  {
   "cell_type": "code",
   "execution_count": 7,
   "metadata": {},
   "outputs": [],
   "source": [
    "# ### losses check\n",
    "# z = gen_random_noise(shape=(10000, 81))\n",
    "# batch_size = 500\n",
    "# epochs = 50\n",
    "# confidence_level = 0.9 \n",
    "# gen_lr = 2e-5\n",
    "# losses = ['log', 'l1', 'l2']\n",
    "\n",
    "\n",
    "# for loss in losses:\n",
    "#     rf_ctgan = CTGANSynthesizer(batch_size=batch_size, \n",
    "#                                 blackbox_model=rf_model, \n",
    "#                                 preprocessing_pipeline=rf_pipeline, \n",
    "#                                 bb_loss=loss\n",
    "#                                 )\n",
    "\n",
    "#     hist = rf_ctgan.fit(train_data=z, \n",
    "#                         epochs=epochs,\n",
    "#                         confidence_level=confidence_level,\n",
    "#                         gen_lr=gen_lr,\n",
    "#                         )\n",
    "#     plot_losses(hist, title=loss + ' loss')\n",
    "#     print()"
   ]
  },
  {
   "cell_type": "code",
   "execution_count": 8,
   "metadata": {},
   "outputs": [],
   "source": [
    "# # confidence levels check\n",
    "# z = gen_random_noise(shape=(10000, 81))\n",
    "# batch_size = 500\n",
    "# epochs = 50\n",
    "# gen_lr = 2e-5\n",
    "# loss = 'log'\n",
    "# confidence_levels = [0.7, 0.8, 0.9]\n",
    "# # confidence_levels = [0.7]\n",
    "\n",
    "# for c in confidence_levels:\n",
    "#     rf_ctgan = CTGANSynthesizer(batch_size=batch_size, \n",
    "#                                 blackbox_model=rf_model, \n",
    "#                                 preprocessing_pipeline=rf_pipeline, \n",
    "#                                 bb_loss=loss\n",
    "#                                 )\n",
    "\n",
    "#     hist = rf_ctgan.fit(train_data=z, \n",
    "#                         epochs=epochs,\n",
    "#                         confidence_level=c,\n",
    "#                         gen_lr=gen_lr,\n",
    "#                         )\n",
    "    \n",
    "#     rf_ctgan.save(f\"ctgan_c_{c}.pkl\")\n",
    "#     plot_losses(hist, title=f\"confidence level = {c}\")\n",
    "    "
   ]
  },
  {
   "cell_type": "code",
   "execution_count": 11,
   "metadata": {},
   "outputs": [
    {
     "data": {
      "image/png": "[encoded data removed]",
      "text/plain": [
       "<Figure size 1080x360 with 1 Axes>"
      ]
     },
     "metadata": {
      "needs_background": "light"
     },
     "output_type": "display_data"
    }
   ],
   "source": [
    "#  check confidence for the generated samples\n",
    "samples = 1000\n",
    "# confidence_levels = [0.7, 0.8, 0.9]\n",
    "confidence_levels = [0.7]\n",
    "\n",
    "for c in confidence_levels:\n",
    "    rf_ctgan = CTGANSynthesizer.load(f\"{MODELS_PATH}/ctgan_c_{c}.pkl\") \n",
    "    test_data = rf_ctgan.sample(samples)\n",
    "    y_prob = rf_model.predict_proba(test_data)\n",
    "    y_conf_gen = y_prob[:, 0]  # confidence scores\n",
    "    \n",
    "    counts = pd.value_counts(y_conf_gen, bins=10, sort=False)\n",
    "    plt.figure()\n",
    "    ax = counts.plot.bar(rot=0, grid=True, color='#607c8e', figsize=(15,5))\n",
    "    ax.set_xticklabels([str(interval) for interval in counts.index], fontsize=11)\n",
    "    ax.set_ylabel('Frequency', fontsize=15)\n",
    "\n",
    "    ax.set_title(f'Scores of generated 1000 samples (c={c})', fontsize=25)"
   ]
  },
  {
   "cell_type": "code",
   "execution_count": 16,
   "metadata": {},
   "outputs": [
    {
     "data": {
      "text/plain": [
       "(1000, 81)"
      ]
     },
     "execution_count": 16,
     "metadata": {},
     "output_type": "execute_result"
    }
   ],
   "source": [
    "test_data.shape"
   ]
  },
  {
   "cell_type": "code",
   "execution_count": null,
   "metadata": {},
   "outputs": [],
   "source": []
  }
 ],
 "metadata": {
  "kernelspec": {
   "display_name": "Python [conda env:tf1]",
   "language": "python",
   "name": "conda-env-tf1-py"
  },
  "language_info": {
   "codemirror_mode": {
    "name": "ipython",
    "version": 3
   },
   "file_extension": ".py",
   "mimetype": "text/x-python",
   "name": "python",
   "nbconvert_exporter": "python",
   "pygments_lexer": "ipython3",
   "version": "3.7.4"
  }
 },
 "nbformat": 4,
 "nbformat_minor": 4
}
